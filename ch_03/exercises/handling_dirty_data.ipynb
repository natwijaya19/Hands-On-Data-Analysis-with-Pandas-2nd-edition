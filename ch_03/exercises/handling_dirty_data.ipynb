{
 "cells": [
  {
   "cell_type": "code",
   "execution_count": 12,
   "metadata": {
    "collapsed": true,
    "pycharm": {
     "name": "#%%\n"
    }
   },
   "outputs": [],
   "source": [
    "import pandas as pd\n",
    "\n"
   ]
  },
  {
   "cell_type": "code",
   "execution_count": 13,
   "outputs": [
    {
     "data": {
      "text/plain": "                    date            station  PRCP  SNOW  SNWD    TMAX  TMIN  \\\n0    2018-01-01T00:00:00                  ?   0.0   0.0  -inf  5505.0 -40.0   \n1    2018-01-01T00:00:00                  ?   0.0   0.0  -inf  5505.0 -40.0   \n2    2018-01-01T00:00:00                  ?   0.0   0.0  -inf  5505.0 -40.0   \n3    2018-01-02T00:00:00  GHCND:USC00280907   0.0   0.0  -inf    -8.3 -16.1   \n4    2018-01-03T00:00:00  GHCND:USC00280907   0.0   0.0  -inf    -4.4 -13.9   \n..                   ...                ...   ...   ...   ...     ...   ...   \n760  2018-12-31T00:00:00  GHCND:USC00280907   0.0   0.0  -inf     3.3  -3.3   \n761  2018-12-31T00:00:00  GHCND:USC00280907   0.0   0.0  -inf     3.3  -3.3   \n762  2018-12-31T00:00:00  GHCND:USC00280907   0.0   0.0  -inf     3.3  -3.3   \n763  2018-12-31T00:00:00                  ?   0.0   0.0  -inf  5505.0 -40.0   \n764  2018-12-31T00:00:00                  ?   0.0   0.0  -inf  5505.0 -40.0   \n\n     TOBS  WESF inclement_weather  \n0     NaN   NaN               NaN  \n1     NaN   NaN               NaN  \n2     NaN   NaN               NaN  \n3   -12.2   NaN             False  \n4   -13.3   NaN             False  \n..    ...   ...               ...  \n760  -2.8   NaN             False  \n761  -2.8   NaN             False  \n762  -2.8   NaN             False  \n763   NaN   NaN               NaN  \n764   NaN   NaN               NaN  \n\n[765 rows x 10 columns]",
      "text/html": "<div>\n<style scoped>\n    .dataframe tbody tr th:only-of-type {\n        vertical-align: middle;\n    }\n\n    .dataframe tbody tr th {\n        vertical-align: top;\n    }\n\n    .dataframe thead th {\n        text-align: right;\n    }\n</style>\n<table border=\"1\" class=\"dataframe\">\n  <thead>\n    <tr style=\"text-align: right;\">\n      <th></th>\n      <th>date</th>\n      <th>station</th>\n      <th>PRCP</th>\n      <th>SNOW</th>\n      <th>SNWD</th>\n      <th>TMAX</th>\n      <th>TMIN</th>\n      <th>TOBS</th>\n      <th>WESF</th>\n      <th>inclement_weather</th>\n    </tr>\n  </thead>\n  <tbody>\n    <tr>\n      <th>0</th>\n      <td>2018-01-01T00:00:00</td>\n      <td>?</td>\n      <td>0.0</td>\n      <td>0.0</td>\n      <td>-inf</td>\n      <td>5505.0</td>\n      <td>-40.0</td>\n      <td>NaN</td>\n      <td>NaN</td>\n      <td>NaN</td>\n    </tr>\n    <tr>\n      <th>1</th>\n      <td>2018-01-01T00:00:00</td>\n      <td>?</td>\n      <td>0.0</td>\n      <td>0.0</td>\n      <td>-inf</td>\n      <td>5505.0</td>\n      <td>-40.0</td>\n      <td>NaN</td>\n      <td>NaN</td>\n      <td>NaN</td>\n    </tr>\n    <tr>\n      <th>2</th>\n      <td>2018-01-01T00:00:00</td>\n      <td>?</td>\n      <td>0.0</td>\n      <td>0.0</td>\n      <td>-inf</td>\n      <td>5505.0</td>\n      <td>-40.0</td>\n      <td>NaN</td>\n      <td>NaN</td>\n      <td>NaN</td>\n    </tr>\n    <tr>\n      <th>3</th>\n      <td>2018-01-02T00:00:00</td>\n      <td>GHCND:USC00280907</td>\n      <td>0.0</td>\n      <td>0.0</td>\n      <td>-inf</td>\n      <td>-8.3</td>\n      <td>-16.1</td>\n      <td>-12.2</td>\n      <td>NaN</td>\n      <td>False</td>\n    </tr>\n    <tr>\n      <th>4</th>\n      <td>2018-01-03T00:00:00</td>\n      <td>GHCND:USC00280907</td>\n      <td>0.0</td>\n      <td>0.0</td>\n      <td>-inf</td>\n      <td>-4.4</td>\n      <td>-13.9</td>\n      <td>-13.3</td>\n      <td>NaN</td>\n      <td>False</td>\n    </tr>\n    <tr>\n      <th>...</th>\n      <td>...</td>\n      <td>...</td>\n      <td>...</td>\n      <td>...</td>\n      <td>...</td>\n      <td>...</td>\n      <td>...</td>\n      <td>...</td>\n      <td>...</td>\n      <td>...</td>\n    </tr>\n    <tr>\n      <th>760</th>\n      <td>2018-12-31T00:00:00</td>\n      <td>GHCND:USC00280907</td>\n      <td>0.0</td>\n      <td>0.0</td>\n      <td>-inf</td>\n      <td>3.3</td>\n      <td>-3.3</td>\n      <td>-2.8</td>\n      <td>NaN</td>\n      <td>False</td>\n    </tr>\n    <tr>\n      <th>761</th>\n      <td>2018-12-31T00:00:00</td>\n      <td>GHCND:USC00280907</td>\n      <td>0.0</td>\n      <td>0.0</td>\n      <td>-inf</td>\n      <td>3.3</td>\n      <td>-3.3</td>\n      <td>-2.8</td>\n      <td>NaN</td>\n      <td>False</td>\n    </tr>\n    <tr>\n      <th>762</th>\n      <td>2018-12-31T00:00:00</td>\n      <td>GHCND:USC00280907</td>\n      <td>0.0</td>\n      <td>0.0</td>\n      <td>-inf</td>\n      <td>3.3</td>\n      <td>-3.3</td>\n      <td>-2.8</td>\n      <td>NaN</td>\n      <td>False</td>\n    </tr>\n    <tr>\n      <th>763</th>\n      <td>2018-12-31T00:00:00</td>\n      <td>?</td>\n      <td>0.0</td>\n      <td>0.0</td>\n      <td>-inf</td>\n      <td>5505.0</td>\n      <td>-40.0</td>\n      <td>NaN</td>\n      <td>NaN</td>\n      <td>NaN</td>\n    </tr>\n    <tr>\n      <th>764</th>\n      <td>2018-12-31T00:00:00</td>\n      <td>?</td>\n      <td>0.0</td>\n      <td>0.0</td>\n      <td>-inf</td>\n      <td>5505.0</td>\n      <td>-40.0</td>\n      <td>NaN</td>\n      <td>NaN</td>\n      <td>NaN</td>\n    </tr>\n  </tbody>\n</table>\n<p>765 rows × 10 columns</p>\n</div>"
     },
     "execution_count": 13,
     "metadata": {},
     "output_type": "execute_result"
    }
   ],
   "source": [
    "dirty_df = pd.read_csv('../data/dirty_data.csv')\n",
    "dirty_df"
   ],
   "metadata": {
    "collapsed": false,
    "pycharm": {
     "name": "#%%\n"
    }
   }
  },
  {
   "cell_type": "code",
   "execution_count": 14,
   "outputs": [
    {
     "name": "stderr",
     "output_type": "stream",
     "text": [
      "C:\\Users\\kikim\\anaconda3\\envs\\book_env\\lib\\site-packages\\numpy\\lib\\function_base.py:3968: RuntimeWarning: invalid value encountered in multiply\n",
      "  x2 = take(ap, indices_above, axis=axis) * weights_above\n"
     ]
    },
    {
     "data": {
      "text/plain": "             PRCP        SNOW   SNWD         TMAX        TMIN        TOBS  \\\ncount  765.000000  577.000000  577.0   765.000000  765.000000  398.000000   \nmean     5.360392    4.202773    NaN  2649.175294  -15.914379    8.632161   \nstd     10.002138   25.086077    NaN  2744.156281   24.242849    9.815054   \nmin      0.000000    0.000000   -inf   -11.700000  -40.000000  -16.100000   \n25%      0.000000    0.000000    NaN    13.300000  -40.000000    0.150000   \n50%      0.000000    0.000000    NaN    32.800000  -11.100000    8.300000   \n75%      5.800000    0.000000    NaN  5505.000000    6.700000   18.300000   \nmax     61.700000  229.000000    inf  5505.000000   23.900000   26.100000   \n\n            WESF  \ncount  11.000000  \nmean   16.290909  \nstd     9.489832  \nmin     1.800000  \n25%     8.600000  \n50%    19.300000  \n75%    24.900000  \nmax    28.700000  ",
      "text/html": "<div>\n<style scoped>\n    .dataframe tbody tr th:only-of-type {\n        vertical-align: middle;\n    }\n\n    .dataframe tbody tr th {\n        vertical-align: top;\n    }\n\n    .dataframe thead th {\n        text-align: right;\n    }\n</style>\n<table border=\"1\" class=\"dataframe\">\n  <thead>\n    <tr style=\"text-align: right;\">\n      <th></th>\n      <th>PRCP</th>\n      <th>SNOW</th>\n      <th>SNWD</th>\n      <th>TMAX</th>\n      <th>TMIN</th>\n      <th>TOBS</th>\n      <th>WESF</th>\n    </tr>\n  </thead>\n  <tbody>\n    <tr>\n      <th>count</th>\n      <td>765.000000</td>\n      <td>577.000000</td>\n      <td>577.0</td>\n      <td>765.000000</td>\n      <td>765.000000</td>\n      <td>398.000000</td>\n      <td>11.000000</td>\n    </tr>\n    <tr>\n      <th>mean</th>\n      <td>5.360392</td>\n      <td>4.202773</td>\n      <td>NaN</td>\n      <td>2649.175294</td>\n      <td>-15.914379</td>\n      <td>8.632161</td>\n      <td>16.290909</td>\n    </tr>\n    <tr>\n      <th>std</th>\n      <td>10.002138</td>\n      <td>25.086077</td>\n      <td>NaN</td>\n      <td>2744.156281</td>\n      <td>24.242849</td>\n      <td>9.815054</td>\n      <td>9.489832</td>\n    </tr>\n    <tr>\n      <th>min</th>\n      <td>0.000000</td>\n      <td>0.000000</td>\n      <td>-inf</td>\n      <td>-11.700000</td>\n      <td>-40.000000</td>\n      <td>-16.100000</td>\n      <td>1.800000</td>\n    </tr>\n    <tr>\n      <th>25%</th>\n      <td>0.000000</td>\n      <td>0.000000</td>\n      <td>NaN</td>\n      <td>13.300000</td>\n      <td>-40.000000</td>\n      <td>0.150000</td>\n      <td>8.600000</td>\n    </tr>\n    <tr>\n      <th>50%</th>\n      <td>0.000000</td>\n      <td>0.000000</td>\n      <td>NaN</td>\n      <td>32.800000</td>\n      <td>-11.100000</td>\n      <td>8.300000</td>\n      <td>19.300000</td>\n    </tr>\n    <tr>\n      <th>75%</th>\n      <td>5.800000</td>\n      <td>0.000000</td>\n      <td>NaN</td>\n      <td>5505.000000</td>\n      <td>6.700000</td>\n      <td>18.300000</td>\n      <td>24.900000</td>\n    </tr>\n    <tr>\n      <th>max</th>\n      <td>61.700000</td>\n      <td>229.000000</td>\n      <td>inf</td>\n      <td>5505.000000</td>\n      <td>23.900000</td>\n      <td>26.100000</td>\n      <td>28.700000</td>\n    </tr>\n  </tbody>\n</table>\n</div>"
     },
     "execution_count": 14,
     "metadata": {},
     "output_type": "execute_result"
    }
   ],
   "source": [
    "dirty_df.describe()\n"
   ],
   "metadata": {
    "collapsed": false,
    "pycharm": {
     "name": "#%%\n"
    }
   }
  },
  {
   "cell_type": "code",
   "execution_count": 15,
   "outputs": [
    {
     "name": "stdout",
     "output_type": "stream",
     "text": [
      "<class 'pandas.core.frame.DataFrame'>\n",
      "RangeIndex: 765 entries, 0 to 764\n",
      "Data columns (total 10 columns):\n",
      " #   Column             Non-Null Count  Dtype  \n",
      "---  ------             --------------  -----  \n",
      " 0   date               765 non-null    object \n",
      " 1   station            765 non-null    object \n",
      " 2   PRCP               765 non-null    float64\n",
      " 3   SNOW               577 non-null    float64\n",
      " 4   SNWD               577 non-null    float64\n",
      " 5   TMAX               765 non-null    float64\n",
      " 6   TMIN               765 non-null    float64\n",
      " 7   TOBS               398 non-null    float64\n",
      " 8   WESF               11 non-null     float64\n",
      " 9   inclement_weather  408 non-null    object \n",
      "dtypes: float64(7), object(3)\n",
      "memory usage: 59.9+ KB\n"
     ]
    }
   ],
   "source": [
    "dirty_df.info()"
   ],
   "metadata": {
    "collapsed": false,
    "pycharm": {
     "name": "#%%\n"
    }
   }
  },
  {
   "cell_type": "code",
   "execution_count": 16,
   "outputs": [
    {
     "data": {
      "text/plain": "                    date            station  PRCP  SNOW  SNWD    TMAX  TMIN  \\\n0    2018-01-01T00:00:00                  ?   0.0   0.0  -inf  5505.0 -40.0   \n1    2018-01-01T00:00:00                  ?   0.0   0.0  -inf  5505.0 -40.0   \n2    2018-01-01T00:00:00                  ?   0.0   0.0  -inf  5505.0 -40.0   \n3    2018-01-02T00:00:00  GHCND:USC00280907   0.0   0.0  -inf    -8.3 -16.1   \n4    2018-01-03T00:00:00  GHCND:USC00280907   0.0   0.0  -inf    -4.4 -13.9   \n..                   ...                ...   ...   ...   ...     ...   ...   \n760  2018-12-31T00:00:00  GHCND:USC00280907   0.0   0.0  -inf     3.3  -3.3   \n761  2018-12-31T00:00:00  GHCND:USC00280907   0.0   0.0  -inf     3.3  -3.3   \n762  2018-12-31T00:00:00  GHCND:USC00280907   0.0   0.0  -inf     3.3  -3.3   \n763  2018-12-31T00:00:00                  ?   0.0   0.0  -inf  5505.0 -40.0   \n764  2018-12-31T00:00:00                  ?   0.0   0.0  -inf  5505.0 -40.0   \n\n     TOBS  WESF inclement_weather  \n0     NaN   NaN               NaN  \n1     NaN   NaN               NaN  \n2     NaN   NaN               NaN  \n3   -12.2   NaN             False  \n4   -13.3   NaN             False  \n..    ...   ...               ...  \n760  -2.8   NaN             False  \n761  -2.8   NaN             False  \n762  -2.8   NaN             False  \n763   NaN   NaN               NaN  \n764   NaN   NaN               NaN  \n\n[755 rows x 10 columns]",
      "text/html": "<div>\n<style scoped>\n    .dataframe tbody tr th:only-of-type {\n        vertical-align: middle;\n    }\n\n    .dataframe tbody tr th {\n        vertical-align: top;\n    }\n\n    .dataframe thead th {\n        text-align: right;\n    }\n</style>\n<table border=\"1\" class=\"dataframe\">\n  <thead>\n    <tr style=\"text-align: right;\">\n      <th></th>\n      <th>date</th>\n      <th>station</th>\n      <th>PRCP</th>\n      <th>SNOW</th>\n      <th>SNWD</th>\n      <th>TMAX</th>\n      <th>TMIN</th>\n      <th>TOBS</th>\n      <th>WESF</th>\n      <th>inclement_weather</th>\n    </tr>\n  </thead>\n  <tbody>\n    <tr>\n      <th>0</th>\n      <td>2018-01-01T00:00:00</td>\n      <td>?</td>\n      <td>0.0</td>\n      <td>0.0</td>\n      <td>-inf</td>\n      <td>5505.0</td>\n      <td>-40.0</td>\n      <td>NaN</td>\n      <td>NaN</td>\n      <td>NaN</td>\n    </tr>\n    <tr>\n      <th>1</th>\n      <td>2018-01-01T00:00:00</td>\n      <td>?</td>\n      <td>0.0</td>\n      <td>0.0</td>\n      <td>-inf</td>\n      <td>5505.0</td>\n      <td>-40.0</td>\n      <td>NaN</td>\n      <td>NaN</td>\n      <td>NaN</td>\n    </tr>\n    <tr>\n      <th>2</th>\n      <td>2018-01-01T00:00:00</td>\n      <td>?</td>\n      <td>0.0</td>\n      <td>0.0</td>\n      <td>-inf</td>\n      <td>5505.0</td>\n      <td>-40.0</td>\n      <td>NaN</td>\n      <td>NaN</td>\n      <td>NaN</td>\n    </tr>\n    <tr>\n      <th>3</th>\n      <td>2018-01-02T00:00:00</td>\n      <td>GHCND:USC00280907</td>\n      <td>0.0</td>\n      <td>0.0</td>\n      <td>-inf</td>\n      <td>-8.3</td>\n      <td>-16.1</td>\n      <td>-12.2</td>\n      <td>NaN</td>\n      <td>False</td>\n    </tr>\n    <tr>\n      <th>4</th>\n      <td>2018-01-03T00:00:00</td>\n      <td>GHCND:USC00280907</td>\n      <td>0.0</td>\n      <td>0.0</td>\n      <td>-inf</td>\n      <td>-4.4</td>\n      <td>-13.9</td>\n      <td>-13.3</td>\n      <td>NaN</td>\n      <td>False</td>\n    </tr>\n    <tr>\n      <th>...</th>\n      <td>...</td>\n      <td>...</td>\n      <td>...</td>\n      <td>...</td>\n      <td>...</td>\n      <td>...</td>\n      <td>...</td>\n      <td>...</td>\n      <td>...</td>\n      <td>...</td>\n    </tr>\n    <tr>\n      <th>760</th>\n      <td>2018-12-31T00:00:00</td>\n      <td>GHCND:USC00280907</td>\n      <td>0.0</td>\n      <td>0.0</td>\n      <td>-inf</td>\n      <td>3.3</td>\n      <td>-3.3</td>\n      <td>-2.8</td>\n      <td>NaN</td>\n      <td>False</td>\n    </tr>\n    <tr>\n      <th>761</th>\n      <td>2018-12-31T00:00:00</td>\n      <td>GHCND:USC00280907</td>\n      <td>0.0</td>\n      <td>0.0</td>\n      <td>-inf</td>\n      <td>3.3</td>\n      <td>-3.3</td>\n      <td>-2.8</td>\n      <td>NaN</td>\n      <td>False</td>\n    </tr>\n    <tr>\n      <th>762</th>\n      <td>2018-12-31T00:00:00</td>\n      <td>GHCND:USC00280907</td>\n      <td>0.0</td>\n      <td>0.0</td>\n      <td>-inf</td>\n      <td>3.3</td>\n      <td>-3.3</td>\n      <td>-2.8</td>\n      <td>NaN</td>\n      <td>False</td>\n    </tr>\n    <tr>\n      <th>763</th>\n      <td>2018-12-31T00:00:00</td>\n      <td>?</td>\n      <td>0.0</td>\n      <td>0.0</td>\n      <td>-inf</td>\n      <td>5505.0</td>\n      <td>-40.0</td>\n      <td>NaN</td>\n      <td>NaN</td>\n      <td>NaN</td>\n    </tr>\n    <tr>\n      <th>764</th>\n      <td>2018-12-31T00:00:00</td>\n      <td>?</td>\n      <td>0.0</td>\n      <td>0.0</td>\n      <td>-inf</td>\n      <td>5505.0</td>\n      <td>-40.0</td>\n      <td>NaN</td>\n      <td>NaN</td>\n      <td>NaN</td>\n    </tr>\n  </tbody>\n</table>\n<p>755 rows × 10 columns</p>\n</div>"
     },
     "execution_count": 16,
     "metadata": {},
     "output_type": "execute_result"
    }
   ],
   "source": [
    "contain_null = dirty_df[dirty_df.SNOW.isna() | dirty_df.SNWD.isna() | dirty_df.WESF.isna() | dirty_df.inclement_weather.isna()\n",
    "]\n",
    "contain_null"
   ],
   "metadata": {
    "collapsed": false,
    "pycharm": {
     "name": "#%%\n"
    }
   }
  },
  {
   "cell_type": "code",
   "execution_count": 17,
   "outputs": [
    {
     "data": {
      "text/plain": "755"
     },
     "execution_count": 17,
     "metadata": {},
     "output_type": "execute_result"
    }
   ],
   "source": [
    "contain_null.shape[0]"
   ],
   "metadata": {
    "collapsed": false,
    "pycharm": {
     "name": "#%%\n"
    }
   }
  },
  {
   "cell_type": "code",
   "execution_count": 18,
   "outputs": [
    {
     "data": {
      "text/plain": "(357, 10)"
     },
     "execution_count": 18,
     "metadata": {},
     "output_type": "execute_result"
    }
   ],
   "source": [
    "import numpy as np\n",
    "dirty_df[dirty_df.inclement_weather.isna()].shape"
   ],
   "metadata": {
    "collapsed": false,
    "pycharm": {
     "name": "#%%\n"
    }
   }
  },
  {
   "cell_type": "code",
   "execution_count": 19,
   "outputs": [
    {
     "data": {
      "text/plain": "(577, 10)"
     },
     "execution_count": 19,
     "metadata": {},
     "output_type": "execute_result"
    }
   ],
   "source": [
    "dirty_df[dirty_df.SNWD.isin([-np.inf, np.inf])].shape"
   ],
   "metadata": {
    "collapsed": false,
    "pycharm": {
     "name": "#%%\n"
    }
   }
  },
  {
   "cell_type": "code",
   "execution_count": 20,
   "outputs": [],
   "source": [
    "#This only tells us about a single column, though, so we could write a function that will use\n",
    "# a dictionary comprehension to return the number of infinite values per column in our\n",
    "# dataframe:\n",
    "\n",
    "def get_inf_col(df):\n",
    "    \"\"\"Find the number of inf/-inf values per column\"\"\"\n",
    "    return {\n",
    "        col: df[df[col].isin([-np.inf, np.inf])].shape[0] for col in df.columns\n",
    "    }"
   ],
   "metadata": {
    "collapsed": false,
    "pycharm": {
     "name": "#%%\n"
    }
   }
  },
  {
   "cell_type": "code",
   "execution_count": 21,
   "outputs": [
    {
     "data": {
      "text/plain": "{'date': 0,\n 'station': 0,\n 'PRCP': 0,\n 'SNOW': 0,\n 'SNWD': 577,\n 'TMAX': 0,\n 'TMIN': 0,\n 'TOBS': 0,\n 'WESF': 0,\n 'inclement_weather': 0}"
     },
     "execution_count": 21,
     "metadata": {},
     "output_type": "execute_result"
    }
   ],
   "source": [
    "get_inf_col(dirty_df)"
   ],
   "metadata": {
    "collapsed": false,
    "pycharm": {
     "name": "#%%\n"
    }
   }
  },
  {
   "cell_type": "code",
   "execution_count": 22,
   "outputs": [
    {
     "data": {
      "text/plain": "284"
     },
     "execution_count": 22,
     "metadata": {},
     "output_type": "execute_result"
    }
   ],
   "source": [
    "dirty_df[dirty_df.duplicated()].shape[0]"
   ],
   "metadata": {
    "collapsed": false,
    "pycharm": {
     "name": "#%%\n"
    }
   }
  },
  {
   "cell_type": "code",
   "execution_count": 22,
   "outputs": [],
   "source": [],
   "metadata": {
    "collapsed": false,
    "pycharm": {
     "name": "#%%\n"
    }
   }
  },
  {
   "cell_type": "code",
   "execution_count": 22,
   "outputs": [],
   "source": [],
   "metadata": {
    "collapsed": false,
    "pycharm": {
     "name": "#%%\n"
    }
   }
  },
  {
   "cell_type": "code",
   "execution_count": 22,
   "outputs": [],
   "source": [],
   "metadata": {
    "collapsed": false,
    "pycharm": {
     "name": "#%%\n"
    }
   }
  },
  {
   "cell_type": "code",
   "execution_count": 22,
   "outputs": [],
   "source": [],
   "metadata": {
    "collapsed": false,
    "pycharm": {
     "name": "#%%\n"
    }
   }
  },
  {
   "cell_type": "code",
   "execution_count": 22,
   "outputs": [],
   "source": [],
   "metadata": {
    "collapsed": false,
    "pycharm": {
     "name": "#%%\n"
    }
   }
  },
  {
   "cell_type": "code",
   "execution_count": 22,
   "outputs": [],
   "source": [],
   "metadata": {
    "collapsed": false,
    "pycharm": {
     "name": "#%%\n"
    }
   }
  },
  {
   "cell_type": "code",
   "execution_count": 22,
   "outputs": [],
   "source": [],
   "metadata": {
    "collapsed": false,
    "pycharm": {
     "name": "#%%\n"
    }
   }
  },
  {
   "cell_type": "code",
   "execution_count": 22,
   "outputs": [],
   "source": [],
   "metadata": {
    "collapsed": false,
    "pycharm": {
     "name": "#%%\n"
    }
   }
  },
  {
   "cell_type": "code",
   "execution_count": 22,
   "outputs": [],
   "source": [],
   "metadata": {
    "collapsed": false,
    "pycharm": {
     "name": "#%%\n"
    }
   }
  }
 ],
 "metadata": {
  "kernelspec": {
   "display_name": "Python 3",
   "language": "python",
   "name": "python3"
  },
  "language_info": {
   "codemirror_mode": {
    "name": "ipython",
    "version": 2
   },
   "file_extension": ".py",
   "mimetype": "text/x-python",
   "name": "python",
   "nbconvert_exporter": "python",
   "pygments_lexer": "ipython2",
   "version": "2.7.6"
  }
 },
 "nbformat": 4,
 "nbformat_minor": 0
}